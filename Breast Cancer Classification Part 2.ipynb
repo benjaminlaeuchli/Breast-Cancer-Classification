{
 "cells": [
  {
   "cell_type": "markdown",
   "id": "6b45e668-b00b-498f-a26b-9f3d101edb8b",
   "metadata": {},
   "source": [
    "## Breast Cancer Cell Classification Using k-Nearest Neighbors (kNN)"
   ]
  },
  {
   "cell_type": "markdown",
   "id": "bc01eff3-e908-498b-b4eb-1b2a81c9e949",
   "metadata": {},
   "source": [
    "In the previous coding challenge, I used the k-Nearest Neighbors (kNN) algorithm to classify tumor samples as either benign or malignant based on various cell features. Through simple testing, I identified 𝑘=4 as a reasonable number of neighbors for classification. I also observed that the classes were imbalanced.\n",
    "\n",
    "In this notebook, I take my analysis a step further and use Grid Search to automatically identify the best parameters for the kNN model. The goal is to improve the model’s accuracy by optimizing both the number of neighbors and the weighting strategy."
   ]
  },
  {
   "cell_type": "code",
   "execution_count": 4,
   "id": "3ee9f589-2cfc-42e3-85cc-949c07f51514",
   "metadata": {},
   "outputs": [],
   "source": [
    "############################################\n",
    "# Read data\n",
    "############################################\n",
    "\n",
    "# Import package\n",
    "import pandas as pd\n",
    "\n",
    "# File paths for the datasets (with actual file names included)\n",
    "train_file_path = '/Users/derphantomben/Documents/Coding/Portfolio/Breast Cancer Challenges/Challenge No 1/breastcancer_train.csv'\n",
    "test_file_path = '/Users/derphantomben/Documents/Coding/Portfolio/Breast Cancer Challenges/Challenge No 1/breastcancer_test.csv'\n",
    "aim_file_path = '/Users/derphantomben/Documents/Coding/Portfolio/Breast Cancer Challenges/Challenge No 1/breastcancer_aim.csv'\n",
    "\n",
    "# Importing the datasets and treating 'null' strings as NaN values\n",
    "df_train = pd.read_csv(train_file_path, na_values='null')\n",
    "df_test = pd.read_csv(test_file_path, na_values='null')\n",
    "df_aim = pd.read_csv(aim_file_path, na_values='null')\n",
    "\n",
    "df_train.loc[:, 'id'] = df_train.loc[:, 'id'].astype('category')\n",
    "df_train.loc[:, 'class'] = df_train.loc[:, 'class'].astype('category')\n",
    "df_test.loc[:, 'id'] = df_test.loc[:, 'id'].astype('category')\n",
    "df_test.loc[:, 'class'] = df_test.loc[:, 'class'].astype('category')\n",
    "df_aim.loc[:, 'id'] = df_aim.loc[:, 'id'].astype('category')\n",
    "df_train = df_train.dropna()"
   ]
  },
  {
   "cell_type": "markdown",
   "id": "20d0f12c-977a-4c61-b447-2ebe477c31f9",
   "metadata": {},
   "source": [
    "**Feature Selection and Target Definition**\n",
    "In the next step, I extract the relevant input features bland_chromatin and mitoses from the training dataset. These features showed a moderate statistical correlation with the target variable class during my correlation analysis (Breast Cancer Challenge 1). Separating the feature matrix (features_train) and the target vector (target_train) is an essential step to prepare the data for training a machine learning model."
   ]
  },
  {
   "cell_type": "code",
   "execution_count": 5,
   "id": "0d05ff8c-ba01-4c12-adf9-e99fcd537f0a",
   "metadata": {},
   "outputs": [],
   "source": [
    "###########################################\n",
    "# Create feature-Matrix and target vector  \n",
    "###########################################\n",
    "\n",
    "features_train = df_train[['bland_chromatin', 'mitoses']]\n",
    "target_train = df_train['class']\n"
   ]
  },
  {
   "cell_type": "markdown",
   "id": "0992b3c2-cefa-4cc4-8379-073f8b73222a",
   "metadata": {},
   "source": [
    "**Create a Pipeline with Standardization and kNN**\n",
    "To prepare the model properly, I’ll build a pipeline that first standardizes the input features and then applies the k-Nearest Neighbors classifier. This ensures that all preprocessing steps are consistently applied during training and prediction."
   ]
  },
  {
   "cell_type": "code",
   "execution_count": 7,
   "id": "9095e33a-44f3-4073-a0fc-2a0ee1df9f9d",
   "metadata": {},
   "outputs": [],
   "source": [
    "###########################################\n",
    "# Pipeline with standardizition and kNN \n",
    "###########################################\n",
    "\n",
    "# Import package\n",
    "from sklearn.pipeline import Pipeline\n",
    "from sklearn.preprocessing import StandardScaler\n",
    "from sklearn.neighbors import KNeighborsClassifier\n",
    "\n",
    "# Pipeline with standardization and kNN classifier\n",
    "pipeline_std_knn = Pipeline([\n",
    "    ('std', StandardScaler()),           # Step 1: Standardization\n",
    "    ('knn', KNeighborsClassifier())      # Step 2: k-Nearest Neighbors classifier\n",
    "])\n",
    "\n",
    "###########################################\n",
    "# Code notes:\n",
    "#'std' applies standardization using StandardScaler() – crucial for distance-based algorithms like kNN.\n",
    "#'knn' instantiates the k-Nearest Neighbors classifier."
   ]
  },
  {
   "cell_type": "markdown",
   "id": "d67143f0-b2e0-4936-8b32-5304f1be4388",
   "metadata": {},
   "source": [
    "**Define the Hyperparameter Search Space**\n",
    "\n",
    "To find the most optimal configuration for the kNN classifier, performing a GridSearch is necessary, which automates the trial-and-error process.\n",
    "\n",
    "Before I perform Grid Search, I need to define the range of hyperparameters I want to test. In this case, I’ll tune two key parameters of the kNN classifier:\n",
    "\n",
    "n_neighbors: the number of neighbors to consider for classification, ranging from 1 to 25.\n",
    "\n",
    "weights: the method for weighting neighbors – either uniform (equal influence) or distance-based (closer neighbors have more influence).\n",
    "\n",
    "Since these hyperparameters are part of the KNeighborsClassifier defined in our pipeline (under the name 'knn'), I reference them using the format knn__parameter_name."
   ]
  },
  {
   "cell_type": "code",
   "execution_count": 8,
   "id": "3b94d0f5-2f1e-4867-941b-7ed54e756fa7",
   "metadata": {},
   "outputs": [],
   "source": [
    "# Set up search space for GridSearchCV\n",
    "search_space_grid = {\n",
    "    'knn__n_neighbors': list(range(1, 26)),         # k values from 1 to 25\n",
    "    'knn__weights': ['uniform', 'distance']         # Weighting methods\n",
    "}\n",
    "\n",
    "\n",
    "###########################################\n",
    "# Code notes:\n",
    "#knn__n_neighbors: Refers to the n_neighbors hyperparameter of the KNeighborsClassifier, as defined in the 'knn' step of the pipeline.\n",
    "#knn__weights: Controls how neighbors influence the classification – either all equally ('uniform') or based on distance ('distance')."
   ]
  },
  {
   "cell_type": "markdown",
   "id": "98773b16-852f-403a-8837-d1d405046d59",
   "metadata": {},
   "source": [
    "**Perform Grid Search to Find the Best kNN Model**\n",
    "\n",
    "I will now instantiate a GridSearchCV object to perform a 5-fold cross-validation. This will allow testing of multiple combinations of hyperparameters for the kNN model and find the configuration that provides the highest accuracy.\n",
    "\n",
    "I’ll use:\n",
    "\n",
    "- pipeline_std_knn: the pipeline that standardizes the features and applies the kNN algorithm.\n",
    "- search_space_grid: the defined search space for the hyperparameters (n_neighbors and weights).\n",
    "- Accuracy as the evaluation metric to determine the best-performing model.\n",
    "- 5-fold cross-validation to validate the model’s performance on different subsets of the data.\n",
    "- Lastly, I’ll apply the Grid Search to the features and target vector."
   ]
  },
  {
   "cell_type": "code",
   "execution_count": 9,
   "id": "59d1036b-f434-483b-ba46-f8454c526625",
   "metadata": {},
   "outputs": [
    {
     "name": "stdout",
     "output_type": "stream",
     "text": [
      "Best Parameters:  {'knn__n_neighbors': 14, 'knn__weights': 'uniform'}\n",
      "Best Cross-Validation Accuracy:  0.9319571865443426\n"
     ]
    }
   ],
   "source": [
    "###########################################\n",
    "# Find the best kNN model via GridSearch\n",
    "###########################################\n",
    "\n",
    "# Import package\n",
    "from sklearn.model_selection import GridSearchCV\n",
    "\n",
    "# Instantiate GridSearchCV with the defined parameters\n",
    "grid_search_for_k = GridSearchCV(\n",
    "    estimator=pipeline_std_knn,                # The pipeline to be used\n",
    "    param_grid=search_space_grid,              # The parameter grid for k and weights\n",
    "    scoring='accuracy',                        # The evaluation metric: accuracy\n",
    "    cv=5,                                      # 5-fold cross-validation\n",
    "    n_jobs=-1                                   # Use all available CPU cores (optional)\n",
    ")\n",
    "\n",
    "# Fit the grid search to the data (features_train and target_train)\n",
    "grid_search_for_k.fit(features_train, target_train)\n",
    "\n",
    "# Output the best parameters and the best score found\n",
    "print(\"Best Parameters: \", grid_search_for_k.best_params_)\n",
    "print(\"Best Cross-Validation Accuracy: \", grid_search_for_k.best_score_)\n",
    "\n",
    "###########################################\n",
    "# Code notes:\n",
    "# estimator=pipeline_std_knn: I use the previously defined pipeline (pipeline_std_knn), which includes the standardization step and the kNN classifier.\n",
    "#param_grid=search_space_grid: This defines the search space for the n_neighbors and weights hyperparameters, which will be tested during the Grid Search.\n",
    "#scoring='accuracy': We use accuracy as the metric to evaluate the performance of each combination of hyperparameters.\n",
    "#cv=5: This sets up 5-fold cross-validation, meaning the dataset will be split into 5 subsets, and the model will be trained and validated 5 times, each time using a different subset for validation.\n",
    "#n_jobs=-1: This option uses all available CPU cores for faster computation (optional).\n",
    "#After fitting, grid_search_for_k.best_params_ will give the best combination of n_neighbors and weights, and grid_search_for_k.best_score_ will show the best accuracy score achieved during cross-validation."
   ]
  },
  {
   "cell_type": "markdown",
   "id": "22897583-f08b-419b-9e1c-6de2b1e78f6e",
   "metadata": {},
   "source": [
    "The Grid Search found the optimal combination of hyperparameters for your k-Nearest Neighbors (kNN) model:\n",
    "\n",
    "**Best Parameters:**\n",
    "n_neighbors = 14: This means the best-performing model considers 14 nearest neighbors to classify the tumor as benign or malignant.\n",
    "\n",
    "weights = 'uniform': This indicates that all neighbors are given equal weight in the classification decision.\n",
    "\n",
    "**Best Cross-Validation Accuracy:**\n",
    "0.932 (or 93.2%): This is the highest accuracy achieved across the 5-fold cross-validation. It means that, on average, your kNN model correctly predicted whether tumors are benign or malignant 93.2% of the time."
   ]
  },
  {
   "cell_type": "markdown",
   "id": "d6bea2d2-3caf-4985-a56f-4d2272f9597c",
   "metadata": {},
   "source": [
    "I will now proceed with **evaluating the performance of the best model on the test data**. \n",
    "\n",
    "Here's the process:\n",
    "\n",
    "- Extracting the best model from the Grid Search (grid_search_for_k.best_estimator_).\n",
    "- Creating the feature matrix (features_test) and target vector (target_test) for the test dataset.\n",
    "- Use the best model to predict the target values (target_test_pred) for the test data.\n",
    "\n",
    "Note: Since the StandardScaler is part of the pipeline, the test data will automatically be standardized before making predictions."
   ]
  },
  {
   "cell_type": "code",
   "execution_count": 10,
   "id": "9a319557-8383-4020-b47d-16c253ffc2f9",
   "metadata": {},
   "outputs": [
    {
     "name": "stdout",
     "output_type": "stream",
     "text": [
      "Predicted Target (First 10 values): [0 0 1 1 1 0 1 0 0 0]\n"
     ]
    }
   ],
   "source": [
    "###########################################\n",
    "# Performance evaluation of the best model\n",
    "###########################################\n",
    "\n",
    "# Extract the best model from the grid search\n",
    "model_knn_best = grid_search_for_k.best_estimator_\n",
    "\n",
    "# Create the feature matrix and target vector for the test dataset\n",
    "features_test = df_test[['bland_chromatin', 'mitoses']]\n",
    "target_test = df_test['class']\n",
    "\n",
    "# Predict the target using the best model (Reminder: standardization is automatically handled in the pipeline)\n",
    "target_test_pred = model_knn_best.predict(features_test)\n",
    "\n",
    "# Display the predictions\n",
    "print(\"Predicted Target (First 10 values):\", target_test_pred[:10])"
   ]
  },
  {
   "cell_type": "markdown",
   "id": "63e9307d-f4f3-452d-bcc4-79c4714d1a3c",
   "metadata": {},
   "source": [
    "For the first 10 test samples, the model predicted whether each tumor is benign or malignant.\n",
    "\n",
    "0 = Benign (good tumor).\n",
    "1 = Malignant (cancerous tumor)."
   ]
  },
  {
   "cell_type": "markdown",
   "id": "c5a5d758-13f9-4f82-be79-1336bf6063a9",
   "metadata": {},
   "source": [
    "To **calculate the accuracy for the real target values and predicted target values of the test dataset**, the accuracy_score function from scikit-learn is useful."
   ]
  },
  {
   "cell_type": "code",
   "execution_count": 11,
   "id": "8fa478b7-edce-47ad-a89f-1a8a120b7846",
   "metadata": {},
   "outputs": [
    {
     "name": "stdout",
     "output_type": "stream",
     "text": [
      "Accuracy: 0.8714\n"
     ]
    }
   ],
   "source": [
    "from sklearn.metrics import accuracy_score\n",
    "\n",
    "# Calculate accuracy\n",
    "accuracy = accuracy_score(target_test, target_test_pred)\n",
    "\n",
    "# Display the accuracy\n",
    "print(f\"Accuracy: {accuracy:.4f}\")\n"
   ]
  },
  {
   "cell_type": "code",
   "execution_count": 12,
   "id": "bd79edf7-63eb-4ec9-b118-e1dad7b907d4",
   "metadata": {},
   "outputs": [
    {
     "data": {
      "image/png": "[encoded data removed]",
      "text/plain": [
       "<Figure size 600x500 with 2 Axes>"
      ]
     },
     "metadata": {},
     "output_type": "display_data"
    }
   ],
   "source": [
    "###########################################\n",
    "# Visualize the performance of the model using a confusion matrix\n",
    "###########################################\n",
    "\n",
    "# Import package\n",
    "import seaborn as sns\n",
    "import matplotlib.pyplot as plt\n",
    "from sklearn.metrics import confusion_matrix\n",
    "\n",
    "# Compute confusion matrix\n",
    "cm = confusion_matrix(target_test, target_test_pred)\n",
    "\n",
    "# Plot confusion matrix as a heatmap\n",
    "plt.figure(figsize=(6, 5))\n",
    "sns.heatmap(cm, annot=True, fmt='d', cmap='Blues', xticklabels=['Benign', 'Malignant'], yticklabels=['Benign', 'Malignant'])\n",
    "plt.title(\"Confusion Matrix for Test Dataset\")\n",
    "plt.xlabel('Predicted')\n",
    "plt.ylabel('Actual')\n",
    "plt.show()"
   ]
  },
  {
   "cell_type": "markdown",
   "id": "ddf6c623-61c3-4d97-af78-20d0e88e130d",
   "metadata": {},
   "source": [
    "**Using the best kNN model from your grid search to predict the benign or malignant classification for the new samples in the aim dataset.**\n",
    "\n",
    "Breakdown of the steps:\n",
    "\n",
    "- Creating the Feature Matrix (features_aim) for the aim dataset, which includes the columns 'bland_chromatin' and 'mitoses'.\n",
    "- Predicting the Target using the best kNN model (model_knn_best) for the aim dataset.\n",
    "- Saving the predictions in a new column 'class_pred' in df_aim.\n",
    "- Display the first 5 rows of the updated df_aim to check the results.\n",
    "\n",
    "Note: Since the pipeline includes standardization, the features will be automatically standardized before making predictions."
   ]
  },
  {
   "cell_type": "code",
   "execution_count": 13,
   "id": "bb3a72de-466c-4845-8d78-59c7b0c31dc6",
   "metadata": {},
   "outputs": [
    {
     "data": {
      "text/html": [
       "<div>\n",
       "<style scoped>\n",
       "    .dataframe tbody tr th:only-of-type {\n",
       "        vertical-align: middle;\n",
       "    }\n",
       "\n",
       "    .dataframe tbody tr th {\n",
       "        vertical-align: top;\n",
       "    }\n",
       "\n",
       "    .dataframe thead th {\n",
       "        text-align: right;\n",
       "    }\n",
       "</style>\n",
       "<table border=\"1\" class=\"dataframe\">\n",
       "  <thead>\n",
       "    <tr style=\"text-align: right;\">\n",
       "      <th></th>\n",
       "      <th>Unnamed: 0</th>\n",
       "      <th>id</th>\n",
       "      <th>clump_thickness</th>\n",
       "      <th>size_uniformity</th>\n",
       "      <th>shape_uniformity</th>\n",
       "      <th>marginal_adhesion</th>\n",
       "      <th>epithelial_size</th>\n",
       "      <th>bare_nucleoli</th>\n",
       "      <th>bland_chromatin</th>\n",
       "      <th>normal_nucleoli</th>\n",
       "      <th>mitoses</th>\n",
       "      <th>class</th>\n",
       "      <th>class_pred</th>\n",
       "    </tr>\n",
       "  </thead>\n",
       "  <tbody>\n",
       "    <tr>\n",
       "      <th>0</th>\n",
       "      <td>1</td>\n",
       "      <td>1347943</td>\n",
       "      <td>5</td>\n",
       "      <td>2</td>\n",
       "      <td>2</td>\n",
       "      <td>2</td>\n",
       "      <td>2</td>\n",
       "      <td>1</td>\n",
       "      <td>1</td>\n",
       "      <td>1</td>\n",
       "      <td>2</td>\n",
       "      <td>NaN</td>\n",
       "      <td>0</td>\n",
       "    </tr>\n",
       "    <tr>\n",
       "      <th>1</th>\n",
       "      <td>2</td>\n",
       "      <td>1148278</td>\n",
       "      <td>3</td>\n",
       "      <td>3</td>\n",
       "      <td>6</td>\n",
       "      <td>4</td>\n",
       "      <td>5</td>\n",
       "      <td>8</td>\n",
       "      <td>4</td>\n",
       "      <td>4</td>\n",
       "      <td>1</td>\n",
       "      <td>NaN</td>\n",
       "      <td>1</td>\n",
       "    </tr>\n",
       "    <tr>\n",
       "      <th>2</th>\n",
       "      <td>3</td>\n",
       "      <td>706426</td>\n",
       "      <td>5</td>\n",
       "      <td>5</td>\n",
       "      <td>5</td>\n",
       "      <td>2</td>\n",
       "      <td>5</td>\n",
       "      <td>10</td>\n",
       "      <td>4</td>\n",
       "      <td>3</td>\n",
       "      <td>1</td>\n",
       "      <td>NaN</td>\n",
       "      <td>1</td>\n",
       "    </tr>\n",
       "    <tr>\n",
       "      <th>3</th>\n",
       "      <td>4</td>\n",
       "      <td>1075123</td>\n",
       "      <td>3</td>\n",
       "      <td>1</td>\n",
       "      <td>2</td>\n",
       "      <td>1</td>\n",
       "      <td>2</td>\n",
       "      <td>1</td>\n",
       "      <td>2</td>\n",
       "      <td>1</td>\n",
       "      <td>1</td>\n",
       "      <td>NaN</td>\n",
       "      <td>0</td>\n",
       "    </tr>\n",
       "    <tr>\n",
       "      <th>4</th>\n",
       "      <td>5</td>\n",
       "      <td>1183240</td>\n",
       "      <td>4</td>\n",
       "      <td>1</td>\n",
       "      <td>2</td>\n",
       "      <td>1</td>\n",
       "      <td>2</td>\n",
       "      <td>1</td>\n",
       "      <td>2</td>\n",
       "      <td>1</td>\n",
       "      <td>1</td>\n",
       "      <td>NaN</td>\n",
       "      <td>0</td>\n",
       "    </tr>\n",
       "  </tbody>\n",
       "</table>\n",
       "</div>"
      ],
      "text/plain": [
       "   Unnamed: 0       id  clump_thickness  size_uniformity  shape_uniformity  \\\n",
       "0           1  1347943                5                2                 2   \n",
       "1           2  1148278                3                3                 6   \n",
       "2           3   706426                5                5                 5   \n",
       "3           4  1075123                3                1                 2   \n",
       "4           5  1183240                4                1                 2   \n",
       "\n",
       "   marginal_adhesion  epithelial_size  bare_nucleoli  bland_chromatin  \\\n",
       "0                  2                2              1                1   \n",
       "1                  4                5              8                4   \n",
       "2                  2                5             10                4   \n",
       "3                  1                2              1                2   \n",
       "4                  1                2              1                2   \n",
       "\n",
       "   normal_nucleoli  mitoses  class  class_pred  \n",
       "0                1        2    NaN           0  \n",
       "1                4        1    NaN           1  \n",
       "2                3        1    NaN           1  \n",
       "3                1        1    NaN           0  \n",
       "4                1        1    NaN           0  "
      ]
     },
     "execution_count": 13,
     "metadata": {},
     "output_type": "execute_result"
    }
   ],
   "source": [
    "###########################################\n",
    "# Predict bening / malign classification using best kNN on new samples from aim dataset\n",
    "###########################################\n",
    "\n",
    "# Create the feature matrix for the aim dataset\n",
    "features_aim = df_aim[['bland_chromatin', 'mitoses']]\n",
    "\n",
    "# Predict the target for the aim dataset using the best model from grid search\n",
    "target_aim_pred = model_knn_best.predict(features_aim)\n",
    "\n",
    "# Add the predictions as a new column 'class_pred' to the df_aim DataFrame\n",
    "df_aim['class_pred'] = target_aim_pred\n",
    "\n",
    "# Display the first 5 rows of df_aim to check the predictions\n",
    "df_aim.head()\n"
   ]
  },
  {
   "cell_type": "code",
   "execution_count": 15,
   "id": "98ac4d25-7722-4957-b84f-810353cd7bf4",
   "metadata": {},
   "outputs": [
    {
     "name": "stdout",
     "output_type": "stream",
     "text": [
      "Number of malignant tumor predictions: 27\n"
     ]
    }
   ],
   "source": [
    "###########################################\n",
    "# Filter the predictions for malignant tumors \n",
    "###########################################\n",
    "\n",
    "# Create a mask to filter for malignant tumor predictions (class_pred = 1)\n",
    "malignant_mask = df_aim['class_pred'] == 1\n",
    "\n",
    "# Filter the DataFrame to only include rows with malignant tumor predictions\n",
    "malignant_samples = df_aim[malignant_mask]\n",
    "\n",
    "# Count the number of malignant tumor predictions\n",
    "num_malignant_samples = malignant_samples.shape[0]\n",
    "\n",
    "# Display the result\n",
    "print(f\"Number of malignant tumor predictions: {num_malignant_samples}\")"
   ]
  }
 ],
 "metadata": {
  "kernelspec": {
   "display_name": "Python (jupyter-env)",
   "language": "python",
   "name": "jupyter-env"
  },
  "language_info": {
   "codemirror_mode": {
    "name": "ipython",
    "version": 3
   },
   "file_extension": ".py",
   "mimetype": "text/x-python",
   "name": "python",
   "nbconvert_exporter": "python",
   "pygments_lexer": "ipython3",
   "version": "3.11.11"
  }
 },
 "nbformat": 4,
 "nbformat_minor": 5
}
